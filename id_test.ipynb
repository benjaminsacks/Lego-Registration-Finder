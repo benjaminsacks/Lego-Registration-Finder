{
 "cells": [
  {
   "cell_type": "code",
   "execution_count": 2,
   "metadata": {},
   "outputs": [],
   "source": [
    "import matplotlib.pyplot as plt\n",
    "from collections import Counter\n",
    "\n",
    "ids = [\n",
    "    \"TR7FRPTWSJSVQNTDV\",\n",
    "    \"MLT5NRSKJLD7CWML5\",\n",
    "    \"KCC9MXPVFXWVRRQPC\",\n",
    "    \"DWJJJX9V5WHM9P9DK\",\n",
    "    \"XKVN95KWLTDKSTHKF\",\n",
    "    \"TNSMVVSCN97JHRHDF\",\n",
    "    \"9DVDSNHTWSVJCKMTV\",\n",
    "    \"WSXX7QKMSNLDNFC5T\",\n",
    "    \"RKJKHWWRDHDSFVTLW\",\n",
    "    \"5R7FVNCKSNCHNQWSW\",\n",
    "    \"WNRRP9VPSNLSRMTJV\"\n",
    "]"
   ]
  },
  {
   "cell_type": "code",
   "execution_count": 35,
   "metadata": {},
   "outputs": [
    {
     "data": {
      "image/png": "[encoded data removed]",
      "text/plain": [
       "<Figure size 720x432 with 1 Axes>"
      ]
     },
     "metadata": {
      "needs_background": "light"
     },
     "output_type": "display_data"
    }
   ],
   "source": [
    "# Combine all strings into one\n",
    "all_text = \"\".join(ids)\n",
    "\n",
    "# Count the frequency of each character\n",
    "char_count = Counter(all_text)\n",
    "\n",
    "# Separate the characters and their counts\n",
    "chars, counts = zip(*sorted(char_count.items(), key=lambda item: item[0]))  # Sort by character values\n",
    "\n",
    "# Create a bar plot\n",
    "plt.figure(figsize=(10, 6))\n",
    "plt.bar(chars, counts)\n",
    "plt.xlabel(\"Character\")\n",
    "plt.ylabel(\"Frequency\")\n",
    "plt.title(\"Character Frequency in Strings\")\n",
    "plt.xticks(rotation=45)  # Rotate x-axis labels for readability\n",
    "plt.show()"
   ]
  },
  {
   "cell_type": "code",
   "execution_count": 36,
   "metadata": {},
   "outputs": [
    {
     "name": "stdout",
     "output_type": "stream",
     "text": [
      "53, 55, 57, 67, 68, 70, 72, 74, 75, 76, 77, 78, 80, 81, 82, 83, 84, 86, 87, 88\n",
      "5,  7,  9,  C,  D,  F,  H,  J,  K,  L,  M,  N,  P,  Q,  R,  S,  T,  V,  W,  X\n"
     ]
    }
   ],
   "source": [
    "print(\", \".join([str(ord(c)) for c in chars]))\n",
    "print(\",  \".join(chars))"
   ]
  }
 ],
 "metadata": {
  "kernelspec": {
   "display_name": "Python 3",
   "language": "python",
   "name": "python3"
  },
  "language_info": {
   "codemirror_mode": {
    "name": "ipython",
    "version": 3
   },
   "file_extension": ".py",
   "mimetype": "text/x-python",
   "name": "python",
   "nbconvert_exporter": "python",
   "pygments_lexer": "ipython3",
   "version": "3.9.0"
  },
  "orig_nbformat": 4
 },
 "nbformat": 4,
 "nbformat_minor": 2
}
